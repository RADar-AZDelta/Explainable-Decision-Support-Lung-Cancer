{
 "cells": [
  {
   "cell_type": "markdown",
   "metadata": {},
   "source": [
    "### Import packages"
   ]
  },
  {
   "cell_type": "code",
   "execution_count": 27,
   "metadata": {},
   "outputs": [],
   "source": [
    "import pandas as pd\n",
    "from joblib import load\n",
    "from sklearn.metrics import classification_report, roc_auc_score, accuracy_score"
   ]
  },
  {
   "cell_type": "markdown",
   "metadata": {},
   "source": [
    "### Load dataset and pipeline"
   ]
  },
  {
   "cell_type": "code",
   "execution_count": 28,
   "metadata": {},
   "outputs": [],
   "source": [
    "df = pd.read_csv(\"../data/dataset_for_training.csv\", header=0)\n",
    "pipeline = load(open(\"../pipelines/M_6weeks_ENS_model_allfeatures_calibrated.pkl\", \"rb\"))\n",
    "features = pipeline.feature_names_in_\n",
    "X = df[features]"
   ]
  },
  {
   "cell_type": "markdown",
   "metadata": {},
   "source": [
    "### Metrics on entire dataset (if you have the ground truth)"
   ]
  },
  {
   "cell_type": "code",
   "execution_count": 29,
   "metadata": {},
   "outputs": [
    {
     "name": "stdout",
     "output_type": "stream",
     "text": [
      "              precision    recall  f1-score   support\n",
      "\n",
      "           0       0.94      0.90      0.92       305\n",
      "           1       0.71      0.81      0.76        97\n",
      "\n",
      "    accuracy                           0.88       402\n",
      "   macro avg       0.82      0.85      0.84       402\n",
      "weighted avg       0.88      0.88      0.88       402\n",
      "\n"
     ]
    }
   ],
   "source": [
    "y_true = df[['y']]\n",
    "y_prob = pipeline.predict_proba(X)\n",
    "y_hat = pipeline.predict(X)\n",
    "class_report = classification_report(y_true.values.ravel(), y_hat)\n",
    "print(class_report)"
   ]
  },
  {
   "cell_type": "markdown",
   "metadata": {},
   "source": [
    "### Predict probability for the positive class of one sample"
   ]
  },
  {
   "cell_type": "code",
   "execution_count": 9,
   "metadata": {},
   "outputs": [
    {
     "name": "stdout",
     "output_type": "stream",
     "text": [
      "27.8%\n"
     ]
    }
   ],
   "source": [
    "# take the first sample of your dataset\n",
    "y_prob = pipeline.predict_proba(X)[0] \n",
    "\n",
    "# yhat returns two probabilities, one for the negative and one for the positive class, here we take the positive class\n",
    "print(f\"{round(y_prob[1]*100, 2)}%\")"
   ]
  }
 ],
 "metadata": {
  "kernelspec": {
   "display_name": ".venv",
   "language": "python",
   "name": "python3"
  },
  "language_info": {
   "codemirror_mode": {
    "name": "ipython",
    "version": 3
   },
   "file_extension": ".py",
   "mimetype": "text/x-python",
   "name": "python",
   "nbconvert_exporter": "python",
   "pygments_lexer": "ipython3",
   "version": "3.10.8"
  },
  "orig_nbformat": 4
 },
 "nbformat": 4,
 "nbformat_minor": 2
}
