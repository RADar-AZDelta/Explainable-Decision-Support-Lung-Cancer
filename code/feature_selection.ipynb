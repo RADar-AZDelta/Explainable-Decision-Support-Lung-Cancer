{
 "cells": [
  {
   "cell_type": "markdown",
   "metadata": {},
   "source": [
    "## Import packages"
   ]
  },
  {
   "cell_type": "code",
   "execution_count": 10,
   "metadata": {},
   "outputs": [],
   "source": [
    "import pandas as pd \n",
    "from mrmr import mrmr_classif\n",
    "from sklearn.model_selection import train_test_split\n",
    "from sklearn.impute import SimpleImputer\n",
    "from imblearn.pipeline import Pipeline\n",
    "from sklearn.preprocessing import OneHotEncoder, RobustScaler\n",
    "from sklearn.compose import ColumnTransformer\n",
    "from collections import Counter"
   ]
  },
  {
   "cell_type": "markdown",
   "metadata": {},
   "source": [
    "## M_6weeks"
   ]
  },
  {
   "cell_type": "code",
   "execution_count": 11,
   "metadata": {},
   "outputs": [],
   "source": [
    "df = pd.read_csv(\"../data/dataset_for_training.csv\")\n",
    "y = df[[\"y\"]]\n",
    "X = df.drop([\"y\"], axis=1)\n",
    "cats = list(X.select_dtypes(include=[\"object\"]))\n",
    "conts = list(X.select_dtypes(include=[\"float\", \"int\"]))"
   ]
  },
  {
   "cell_type": "code",
   "execution_count": 12,
   "metadata": {},
   "outputs": [],
   "source": [
    "scaler = RobustScaler()\n",
    "imputer = SimpleImputer(strategy=\"median\")\n",
    "scalesteps = [(\"cont_imputer\", imputer), (\"continuous\", scaler)]\n",
    "scale_pipe = Pipeline(steps=scalesteps)\n",
    "cat_pipe = Pipeline(\n",
    "    steps=[\n",
    "        (\n",
    "            \"categorical\",\n",
    "            OneHotEncoder(handle_unknown=\"ignore\", drop=\"if_binary\"),\n",
    "        )\n",
    "    ]\n",
    ")\n",
    "preprocess = ColumnTransformer(\n",
    "            transformers=[\n",
    "                (\"scal\", scale_pipe, conts),\n",
    "                (\"cat\", cat_pipe, cats),\n",
    "            ],\n",
    "            remainder=\"passthrough\",\n",
    "        )"
   ]
  },
  {
   "cell_type": "code",
   "execution_count": 13,
   "metadata": {},
   "outputs": [
    {
     "name": "stderr",
     "output_type": "stream",
     "text": [
      "100%|██████████| 12/12 [00:00<00:00, 17.98it/s]\n",
      "100%|██████████| 12/12 [00:00<00:00, 16.66it/s]\n",
      "100%|██████████| 12/12 [00:00<00:00, 17.30it/s]\n",
      "100%|██████████| 12/12 [00:00<00:00, 19.68it/s]\n",
      "100%|██████████| 12/12 [00:00<00:00, 28.11it/s]\n",
      "100%|██████████| 12/12 [00:00<00:00, 29.74it/s]\n",
      "100%|██████████| 12/12 [00:00<00:00, 33.80it/s]\n",
      "100%|██████████| 12/12 [00:00<00:00, 24.12it/s]\n",
      "100%|██████████| 12/12 [00:00<00:00, 17.51it/s]\n",
      "100%|██████████| 12/12 [00:00<00:00, 23.05it/s]\n",
      "100%|██████████| 12/12 [00:00<00:00, 26.79it/s]\n",
      "100%|██████████| 12/12 [00:00<00:00, 18.94it/s]\n",
      "100%|██████████| 12/12 [00:00<00:00, 24.69it/s]\n",
      "100%|██████████| 12/12 [00:00<00:00, 21.98it/s]\n",
      "100%|██████████| 12/12 [00:00<00:00, 26.19it/s]\n",
      "100%|██████████| 12/12 [00:00<00:00, 27.07it/s]\n",
      "100%|██████████| 12/12 [00:00<00:00, 16.38it/s]\n",
      "100%|██████████| 12/12 [00:00<00:00, 15.25it/s]\n",
      "100%|██████████| 12/12 [00:00<00:00, 18.23it/s]\n",
      "100%|██████████| 12/12 [00:00<00:00, 21.51it/s]\n",
      "100%|██████████| 12/12 [00:00<00:00, 23.40it/s]\n",
      "100%|██████████| 12/12 [00:00<00:00, 20.63it/s]\n",
      "100%|██████████| 12/12 [00:00<00:00, 15.18it/s]\n",
      "100%|██████████| 12/12 [00:00<00:00, 24.06it/s]\n",
      "100%|██████████| 12/12 [00:00<00:00, 20.68it/s]\n",
      "100%|██████████| 12/12 [00:00<00:00, 20.36it/s]\n",
      "100%|██████████| 12/12 [00:00<00:00, 22.12it/s]\n",
      "100%|██████████| 12/12 [00:00<00:00, 24.65it/s]\n",
      "100%|██████████| 12/12 [00:00<00:00, 27.81it/s]\n",
      "100%|██████████| 12/12 [00:00<00:00, 25.26it/s]\n",
      "100%|██████████| 12/12 [00:00<00:00, 16.10it/s]\n",
      "100%|██████████| 12/12 [00:00<00:00, 24.02it/s]\n",
      "100%|██████████| 12/12 [00:00<00:00, 23.76it/s]\n",
      "100%|██████████| 12/12 [00:00<00:00, 25.76it/s]\n",
      "100%|██████████| 12/12 [00:00<00:00, 23.37it/s]\n",
      "100%|██████████| 12/12 [00:00<00:00, 19.32it/s]\n",
      "100%|██████████| 12/12 [00:00<00:00, 19.05it/s]\n",
      "100%|██████████| 12/12 [00:00<00:00, 20.93it/s]\n",
      "100%|██████████| 12/12 [00:00<00:00, 25.32it/s]\n",
      "100%|██████████| 12/12 [00:00<00:00, 22.93it/s]\n",
      "100%|██████████| 12/12 [00:00<00:00, 20.36it/s]\n",
      "100%|██████████| 12/12 [00:00<00:00, 19.40it/s]\n",
      "100%|██████████| 12/12 [00:00<00:00, 32.23it/s]\n",
      "100%|██████████| 12/12 [00:00<00:00, 32.32it/s]\n",
      "100%|██████████| 12/12 [00:00<00:00, 20.58it/s]\n",
      "100%|██████████| 12/12 [00:00<00:00, 21.96it/s]\n",
      "100%|██████████| 12/12 [00:00<00:00, 24.46it/s]\n",
      "100%|██████████| 12/12 [00:00<00:00, 18.76it/s]\n",
      "100%|██████████| 12/12 [00:00<00:00, 21.47it/s]\n",
      "100%|██████████| 12/12 [00:00<00:00, 24.39it/s]\n",
      "100%|██████████| 12/12 [00:00<00:00, 25.12it/s]\n",
      "100%|██████████| 12/12 [00:00<00:00, 17.33it/s]\n",
      "100%|██████████| 12/12 [00:00<00:00, 17.73it/s]\n",
      "100%|██████████| 12/12 [00:00<00:00, 25.37it/s]\n",
      "100%|██████████| 12/12 [00:00<00:00, 22.40it/s]\n",
      "100%|██████████| 12/12 [00:00<00:00, 24.88it/s]\n",
      "100%|██████████| 12/12 [00:00<00:00, 25.65it/s]\n",
      "100%|██████████| 12/12 [00:00<00:00, 23.39it/s]\n",
      "100%|██████████| 12/12 [00:00<00:00, 21.51it/s]\n",
      "100%|██████████| 12/12 [00:00<00:00, 26.10it/s]\n",
      "100%|██████████| 12/12 [00:00<00:00, 17.75it/s]\n",
      "100%|██████████| 12/12 [00:01<00:00, 10.17it/s]\n",
      "100%|██████████| 12/12 [00:00<00:00, 16.21it/s]\n",
      "100%|██████████| 12/12 [00:00<00:00, 14.58it/s]\n",
      "100%|██████████| 12/12 [00:00<00:00, 17.10it/s]\n",
      "100%|██████████| 12/12 [00:00<00:00, 30.58it/s]\n",
      "100%|██████████| 12/12 [00:00<00:00, 22.55it/s]\n",
      "100%|██████████| 12/12 [00:00<00:00, 25.07it/s]\n",
      "100%|██████████| 12/12 [00:00<00:00, 27.50it/s]\n",
      "100%|██████████| 12/12 [00:00<00:00, 33.57it/s]\n",
      "100%|██████████| 12/12 [00:00<00:00, 33.68it/s]\n",
      "100%|██████████| 12/12 [00:00<00:00, 28.06it/s]\n",
      "100%|██████████| 12/12 [00:00<00:00, 13.52it/s]\n",
      "100%|██████████| 12/12 [00:00<00:00, 18.77it/s]\n",
      "100%|██████████| 12/12 [00:00<00:00, 25.15it/s]\n",
      "100%|██████████| 12/12 [00:00<00:00, 19.05it/s]\n",
      "100%|██████████| 12/12 [00:00<00:00, 24.77it/s]\n",
      "100%|██████████| 12/12 [00:00<00:00, 26.91it/s]\n",
      "100%|██████████| 12/12 [00:00<00:00, 25.33it/s]\n",
      "100%|██████████| 12/12 [00:00<00:00, 24.50it/s]\n",
      "100%|██████████| 12/12 [00:00<00:00, 22.58it/s]\n",
      "100%|██████████| 12/12 [00:00<00:00, 14.19it/s]\n",
      "100%|██████████| 12/12 [00:00<00:00, 18.09it/s]\n",
      "100%|██████████| 12/12 [00:00<00:00, 22.03it/s]\n",
      "100%|██████████| 12/12 [00:00<00:00, 26.63it/s]\n",
      "100%|██████████| 12/12 [00:00<00:00, 23.91it/s]\n",
      "100%|██████████| 12/12 [00:00<00:00, 26.38it/s]\n",
      "100%|██████████| 12/12 [00:00<00:00, 24.67it/s]\n",
      "100%|██████████| 12/12 [00:00<00:00, 14.41it/s]\n",
      "100%|██████████| 12/12 [00:00<00:00, 16.09it/s]\n",
      "100%|██████████| 12/12 [00:00<00:00, 19.27it/s]\n",
      "100%|██████████| 12/12 [00:00<00:00, 28.67it/s]\n",
      "100%|██████████| 12/12 [00:00<00:00, 21.77it/s]\n",
      "100%|██████████| 12/12 [00:00<00:00, 29.45it/s]\n",
      "100%|██████████| 12/12 [00:00<00:00, 25.09it/s]\n",
      "100%|██████████| 12/12 [00:00<00:00, 20.13it/s]\n",
      "100%|██████████| 12/12 [00:00<00:00, 24.25it/s]\n",
      "100%|██████████| 12/12 [00:00<00:00, 17.81it/s]\n",
      "100%|██████████| 12/12 [00:00<00:00, 34.64it/s]\n",
      "100%|██████████| 12/12 [00:00<00:00, 28.83it/s]\n"
     ]
    }
   ],
   "source": [
    "best_features = []\n",
    "for i in range(100):\n",
    "    X_tr, X_test, y_tr, y_test = train_test_split(X,y, test_size=0.2, random_state=i, stratify=y)\n",
    "    X_tr = preprocess.fit_transform(X_tr)\n",
    "    X_test = preprocess.transform(X_test)\n",
    "    columns = preprocess.get_feature_names_out()\n",
    "    indices = y_tr.index\n",
    "    X_tr = pd.DataFrame(data=X_tr, columns=columns, index=indices)\n",
    "    selected_features = mrmr_classif(X_tr,y_tr, K= 12)\n",
    "    for feature in selected_features:\n",
    "        best_features.append(feature)\n"
   ]
  },
  {
   "cell_type": "code",
   "execution_count": 14,
   "metadata": {},
   "outputs": [
    {
     "data": {
      "text/plain": [
       "{'scal__who_score_at_diagnosis': 100,\n",
       " 'cat__radio_6weeks_yes': 48,\n",
       " 'scal__diff_diag_baseline_in_weeks': 100,\n",
       " 'scal__bmi': 99,\n",
       " 'scal__LDH': 100,\n",
       " 'cat__immuno_6weeks_yes': 100,\n",
       " 'scal__leukocytes': 100,\n",
       " 'scal__calcium': 16,\n",
       " 'cat__CKD_yes': 69,\n",
       " 'scal__CRP': 98,\n",
       " 'cat__chemo_6weeks_yes': 99,\n",
       " 'scal__hemoglobin': 92,\n",
       " 'cat__stage_IV': 33,\n",
       " 'cat__CPD_yes': 19,\n",
       " 'cat__mutation_yes': 17,\n",
       " 'cat__smoking_status_Ex smoker': 12,\n",
       " 'scal__CKD_EPI': 35,\n",
       " 'scal__thrombocytes': 17,\n",
       " 'cat__CVA_yes': 4,\n",
       " 'cat__Heart_diseases_yes': 10,\n",
       " 'scal__age': 4,\n",
       " 'cat__Liver_yes': 5,\n",
       " 'cat__Cancer_yes': 6,\n",
       " 'cat__PVD_yes': 3,\n",
       " 'cat__targ_6weeks_yes': 5,\n",
       " 'cat__smoking_status_Smoker': 2,\n",
       " 'cat__smoking_status_Unknown': 4,\n",
       " 'cat__smoking_status_No smoker': 1,\n",
       " 'cat__uses_strong_opioids_yes': 2}"
      ]
     },
     "execution_count": 14,
     "metadata": {},
     "output_type": "execute_result"
    }
   ],
   "source": [
    "counter_dictionary = dict(Counter(best_features))\n",
    "counter_dictionary"
   ]
  }
 ],
 "metadata": {
  "kernelspec": {
   "display_name": ".venv",
   "language": "python",
   "name": "python3"
  },
  "language_info": {
   "codemirror_mode": {
    "name": "ipython",
    "version": 3
   },
   "file_extension": ".py",
   "mimetype": "text/x-python",
   "name": "python",
   "nbconvert_exporter": "python",
   "pygments_lexer": "ipython3",
   "version": "3.10.8"
  },
  "orig_nbformat": 4
 },
 "nbformat": 4,
 "nbformat_minor": 2
}
